{
  "nbformat": 4,
  "nbformat_minor": 0,
  "metadata": {
    "kernelspec": {
      "display_name": "Python 3",
      "language": "python",
      "name": "python3"
    },
    "language_info": {
      "codemirror_mode": {
        "name": "ipython",
        "version": 3
      },
      "file_extension": ".py",
      "mimetype": "text/x-python",
      "name": "python",
      "nbconvert_exporter": "python",
      "pygments_lexer": "ipython3",
      "version": "3.7.6"
    },
    "colab": {
      "name": "ICP-6.ipynb",
      "provenance": [],
      "include_colab_link": true
    }
  },
  "cells": [
    {
      "cell_type": "markdown",
      "metadata": {
        "id": "view-in-github",
        "colab_type": "text"
      },
      "source": [
        "<a href=\"https://colab.research.google.com/github/Harun2703/Python/blob/master/icp-6/ICP_6.ipynb\" target=\"_parent\"><img src=\"https://colab.research.google.com/assets/colab-badge.svg\" alt=\"Open In Colab\"/></a>"
      ]
    },
    {
      "cell_type": "markdown",
      "metadata": {
        "id": "tiOV0Jlkm4XI",
        "colab_type": "text"
      },
      "source": [
        "# Importing required Libraries"
      ]
    },
    {
      "cell_type": "code",
      "metadata": {
        "id": "KpLYI0ftm4XK",
        "colab_type": "code",
        "colab": {}
      },
      "source": [
        "import matplotlib.pyplot as plt\n",
        "%matplotlib inline\n",
        "import numpy as np\n",
        "import pandas as pd\n",
        "from sklearn.cluster import KMeans"
      ],
      "execution_count": 70,
      "outputs": []
    },
    {
      "cell_type": "code",
      "metadata": {
        "id": "X2PlsVggm854",
        "colab_type": "code",
        "colab": {
          "base_uri": "https://localhost:8080/",
          "height": 33
        },
        "outputId": "6ea15cd7-14c9-4be2-c850-9d9618898e1c"
      },
      "source": [
        "from google.colab import drive\n",
        "drive.mount('/content/drive')"
      ],
      "execution_count": 71,
      "outputs": [
        {
          "output_type": "stream",
          "text": [
            "Drive already mounted at /content/drive; to attempt to forcibly remount, call drive.mount(\"/content/drive\", force_remount=True).\n"
          ],
          "name": "stdout"
        }
      ]
    },
    {
      "cell_type": "markdown",
      "metadata": {
        "id": "S9JmU9o3m4XU",
        "colab_type": "text"
      },
      "source": [
        "# Remove any null values by the mean.\n"
      ]
    },
    {
      "cell_type": "code",
      "metadata": {
        "id": "5eOhZxl7m4XW",
        "colab_type": "code",
        "colab": {}
      },
      "source": [
        "dataset = pd.read_csv(\"/content/drive/My Drive/Python Deep learning/ICP-6/CC.csv\")"
      ],
      "execution_count": 72,
      "outputs": []
    },
    {
      "cell_type": "code",
      "metadata": {
        "id": "dqaRdXiXm4Xc",
        "colab_type": "code",
        "colab": {}
      },
      "source": [
        "X = dataset.iloc[:, 1:]"
      ],
      "execution_count": 73,
      "outputs": []
    },
    {
      "cell_type": "code",
      "metadata": {
        "id": "jYR6HQZ7m4Xj",
        "colab_type": "code",
        "colab": {}
      },
      "source": [
        "X = X.select_dtypes(include=[np.number]).interpolate().fillna(X.select_dtypes(include=[np.number]).interpolate().mean(axis=0))"
      ],
      "execution_count": 74,
      "outputs": []
    },
    {
      "cell_type": "markdown",
      "metadata": {
        "id": "eu3wC-YNm4Xp",
        "colab_type": "text"
      },
      "source": [
        "# Elbow Method"
      ]
    },
    {
      "cell_type": "code",
      "metadata": {
        "id": "O77CZeSTm4Xq",
        "colab_type": "code",
        "colab": {
          "base_uri": "https://localhost:8080/",
          "height": 295
        },
        "outputId": "af5c281d-437c-4fb6-9448-7fd061cd1ac9"
      },
      "source": [
        "from sklearn.cluster import KMeans\n",
        "wcss = []\n",
        "for i in range(1,10):\n",
        "  kmeans = KMeans(n_clusters=i, random_state=42)\n",
        "  kmeans.fit(X)\n",
        "  wcss.append(kmeans.inertia_)\n",
        "plt.plot(range(1,10),wcss)\n",
        "plt.title(\"The Elbow Method\")\n",
        "plt.xlabel(\"Number of clusters\")\n",
        "plt.ylabel(\"K means score\")\n",
        "plt.show()"
      ],
      "execution_count": 75,
      "outputs": [
        {
          "output_type": "display_data",
          "data": {
            "image/png": "[encoded data removed]",
            "text/plain": [
              "<Figure size 432x288 with 1 Axes>"
            ]
          },
          "metadata": {
            "tags": [],
            "needs_background": "light"
          }
        }
      ]
    },
    {
      "cell_type": "markdown",
      "metadata": {
        "id": "f424bg3nm4Xw",
        "colab_type": "text"
      },
      "source": [
        "# KMeans Model without scaling"
      ]
    },
    {
      "cell_type": "code",
      "metadata": {
        "id": "L1vQxZSQm4Xy",
        "colab_type": "code",
        "colab": {
          "base_uri": "https://localhost:8080/",
          "height": 66
        },
        "outputId": "bdb39159-ab46-40c6-9b1f-d578039a063e"
      },
      "source": [
        "# k=3\n",
        "kmeans = KMeans(n_clusters=3, random_state=40)\n",
        "kmeans.fit(X)"
      ],
      "execution_count": 76,
      "outputs": [
        {
          "output_type": "execute_result",
          "data": {
            "text/plain": [
              "KMeans(algorithm='auto', copy_x=True, init='k-means++', max_iter=300,\n",
              "       n_clusters=3, n_init=10, n_jobs=None, precompute_distances='auto',\n",
              "       random_state=40, tol=0.0001, verbose=0)"
            ]
          },
          "metadata": {
            "tags": []
          },
          "execution_count": 76
        }
      ]
    },
    {
      "cell_type": "code",
      "metadata": {
        "id": "DXmydt5Fm4X4",
        "colab_type": "code",
        "colab": {}
      },
      "source": [
        "y_cluster_kmeans = kmeans.predict(X)"
      ],
      "execution_count": 77,
      "outputs": []
    },
    {
      "cell_type": "markdown",
      "metadata": {
        "id": "i5K2vHYqm4X-",
        "colab_type": "text"
      },
      "source": [
        "# Calculating score"
      ]
    },
    {
      "cell_type": "code",
      "metadata": {
        "id": "hgzERXzAm4X_",
        "colab_type": "code",
        "colab": {}
      },
      "source": [
        "from sklearn import metrics\n",
        "score = metrics.silhouette_score(X, y_cluster_kmeans)"
      ],
      "execution_count": 78,
      "outputs": []
    },
    {
      "cell_type": "markdown",
      "metadata": {
        "id": "6rMkeIglm4YI",
        "colab_type": "text"
      },
      "source": [
        "# Data Scaling"
      ]
    },
    {
      "cell_type": "code",
      "metadata": {
        "id": "Bo5vOjZAm4YJ",
        "colab_type": "code",
        "colab": {}
      },
      "source": [
        "from sklearn.preprocessing import StandardScaler\n",
        "sc = StandardScaler()\n",
        "sc.fit(X)\n",
        "X_scaled = sc.transform(X)"
      ],
      "execution_count": 79,
      "outputs": []
    },
    {
      "cell_type": "markdown",
      "metadata": {
        "id": "1POSaI_b8IAF",
        "colab_type": "text"
      },
      "source": [
        ""
      ]
    },
    {
      "cell_type": "markdown",
      "metadata": {
        "id": "IKoBwoXGm4YO",
        "colab_type": "text"
      },
      "source": [
        "# KMeans Model after Scaling"
      ]
    },
    {
      "cell_type": "code",
      "metadata": {
        "id": "kC6MjJt-m4YO",
        "colab_type": "code",
        "colab": {
          "base_uri": "https://localhost:8080/",
          "height": 66
        },
        "outputId": "fbc22f40-3e48-4c32-b681-975e4d6bd92e"
      },
      "source": [
        "scaled_kmeans = KMeans(n_clusters=3, random_state=42)\n",
        "scaled_kmeans.fit(X_scaled)"
      ],
      "execution_count": 80,
      "outputs": [
        {
          "output_type": "execute_result",
          "data": {
            "text/plain": [
              "KMeans(algorithm='auto', copy_x=True, init='k-means++', max_iter=300,\n",
              "       n_clusters=3, n_init=10, n_jobs=None, precompute_distances='auto',\n",
              "       random_state=42, tol=0.0001, verbose=0)"
            ]
          },
          "metadata": {
            "tags": []
          },
          "execution_count": 80
        }
      ]
    },
    {
      "cell_type": "code",
      "metadata": {
        "id": "_39kpt97m4YV",
        "colab_type": "code",
        "colab": {}
      },
      "source": [
        "y_scaled_kmeans = scaled_kmeans.predict(X_scaled)"
      ],
      "execution_count": 81,
      "outputs": []
    },
    {
      "cell_type": "code",
      "metadata": {
        "id": "PM2trBfrm4YZ",
        "colab_type": "code",
        "colab": {}
      },
      "source": [
        "scaled_score = metrics.silhouette_score(X, y_scaled_kmeans)"
      ],
      "execution_count": 82,
      "outputs": []
    },
    {
      "cell_type": "markdown",
      "metadata": {
        "id": "cnn0sRh1m4Yd",
        "colab_type": "text"
      },
      "source": [
        "# Applying PCA on data"
      ]
    },
    {
      "cell_type": "code",
      "metadata": {
        "id": "PO1638WZm4Ye",
        "colab_type": "code",
        "colab": {}
      },
      "source": [
        "from sklearn.decomposition import PCA\n",
        "pca = PCA(3)\n",
        "X_pca = pca.fit_transform(X)"
      ],
      "execution_count": 83,
      "outputs": []
    },
    {
      "cell_type": "markdown",
      "metadata": {
        "id": "2FzVjc1am4Yi",
        "colab_type": "text"
      },
      "source": [
        "# KMeans model after applying PCA"
      ]
    },
    {
      "cell_type": "code",
      "metadata": {
        "id": "hoRQnQmSm4Yi",
        "colab_type": "code",
        "colab": {}
      },
      "source": [
        "kmeans_pca = KMeans(n_clusters=3)\n",
        "kmeans_pca.fit(X_pca)\n",
        "y_pca_kmeans= kmeans_pca.predict(X_pca)\n",
        "pca_score = metrics.silhouette_score(X_pca, y_pca_kmeans)"
      ],
      "execution_count": 84,
      "outputs": []
    },
    {
      "cell_type": "markdown",
      "metadata": {
        "id": "GagqoXuDm4Ym",
        "colab_type": "text"
      },
      "source": [
        "# KMeans Model after applying PCA on scaled Data"
      ]
    },
    {
      "cell_type": "code",
      "metadata": {
        "id": "0gW29uCsm4Ym",
        "colab_type": "code",
        "colab": {}
      },
      "source": [
        "pca_scaled = PCA(2)\n",
        "X_pca_scaled= pca_scaled.fit_transform(X_scaled)"
      ],
      "execution_count": 86,
      "outputs": []
    },
    {
      "cell_type": "code",
      "metadata": {
        "id": "XvncLXrkm4Yp",
        "colab_type": "code",
        "colab": {
          "base_uri": "https://localhost:8080/",
          "height": 33
        },
        "outputId": "dc039ee5-2bf2-4935-fb9e-92c8e1ce0a9d"
      },
      "source": [
        "kmeans_pca_scaled = KMeans(n_clusters=3)\n",
        "kmeans_pca_scaled.fit(X_pca_scaled)\n",
        "y_pca_kmeans_scaled = kmeans_pca_scaled.predict(X_pca_scaled)\n",
        "pca_scaled_score = metrics.silhouette_score(X_pca_scaled, y_pca_kmeans_scaled)\n",
        "y_pca_kmeans_scaled"
      ],
      "execution_count": 87,
      "outputs": [
        {
          "output_type": "execute_result",
          "data": {
            "text/plain": [
              "array([0, 1, 0, ..., 0, 0, 0], dtype=int32)"
            ]
          },
          "metadata": {
            "tags": []
          },
          "execution_count": 87
        }
      ]
    },
    {
      "cell_type": "markdown",
      "metadata": {
        "id": "iv4B2Fp4m4Ys",
        "colab_type": "text"
      },
      "source": [
        "# Score comparisons"
      ]
    },
    {
      "cell_type": "code",
      "metadata": {
        "id": "Gm1o8tEjm4Yt",
        "colab_type": "code",
        "colab": {
          "base_uri": "https://localhost:8080/",
          "height": 82
        },
        "outputId": "07ac6be1-3a86-444f-a013-f383e8ab7b28"
      },
      "source": [
        "print(\"Score before Scaling :\", score)\n",
        "print(\"Score after Scaling :\", scaled_score)\n",
        "print(\"Score after applying PCA:\",pca_score)\n",
        "print(\"Score after applying PCA on scaled data:\",pca_scaled_score)"
      ],
      "execution_count": 88,
      "outputs": [
        {
          "output_type": "stream",
          "text": [
            "Score before Scaling : 0.46495602530855307\n",
            "Score after Scaling : 0.3394686960076873\n",
            "Score after applying PCA: 0.5112274938487961\n",
            "Score after applying PCA on scaled data: 0.45074852503184565\n"
          ],
          "name": "stdout"
        }
      ]
    },
    {
      "cell_type": "markdown",
      "metadata": {
        "id": "VOcNNMPwm4Yw",
        "colab_type": "text"
      },
      "source": [
        "# Plotting Clusters"
      ]
    },
    {
      "cell_type": "code",
      "metadata": {
        "id": "HvQaXMXqm4Yw",
        "colab_type": "code",
        "colab": {
          "base_uri": "https://localhost:8080/",
          "height": 265
        },
        "outputId": "5441c048-1cdf-446a-b0a3-517a0aef192c"
      },
      "source": [
        "colors = [\"yellow\", \"green\", \"blue\"]\n",
        "for i in range(3):\n",
        "    x_axis = X_pca_scaled[y_pca_kmeans_scaled == i][:,0]\n",
        "    y_axis = X_pca_scaled[y_pca_kmeans_scaled == i][:,1]\n",
        "    plt.scatter(x_axis,y_axis,color=colors[i]) "
      ],
      "execution_count": 89,
      "outputs": [
        {
          "output_type": "display_data",
          "data": {
            "image/png": "[encoded data removed]",
            "text/plain": [
              "<Figure size 432x288 with 1 Axes>"
            ]
          },
          "metadata": {
            "tags": [],
            "needs_background": "light"
          }
        }
      ]
    },
    {
      "cell_type": "code",
      "metadata": {
        "id": "iXwDSZ5zm4Y0",
        "colab_type": "code",
        "colab": {}
      },
      "source": [
        ""
      ],
      "execution_count": null,
      "outputs": []
    },
    {
      "cell_type": "markdown",
      "metadata": {
        "id": "9jyqFzQL8LNm",
        "colab_type": "text"
      },
      "source": [
        "# PCA +KMeans\n",
        "\n"
      ]
    },
    {
      "cell_type": "code",
      "metadata": {
        "id": "wTdzthZ08RPk",
        "colab_type": "code",
        "colab": {
          "base_uri": "https://localhost:8080/",
          "height": 33
        },
        "outputId": "3b004af9-2f35-4903-ef55-cb6fb7574975"
      },
      "source": [
        "km = KMeans(n_clusters=3)\n",
        "km.fit(X_pca)\n",
        "Y_cluster_kmeans= km.predict(X_pca)\n",
        "from sklearn import metrics\n",
        "pca_means_score = metrics.silhouette_score(X_pca, Y_cluster_kmeans)\n",
        "print('PCA+ Kmeans score is:', pca_means_score)"
      ],
      "execution_count": 90,
      "outputs": [
        {
          "output_type": "stream",
          "text": [
            "PCA+ Kmeans score is: 0.5112274938487961\n"
          ],
          "name": "stdout"
        }
      ]
    },
    {
      "cell_type": "markdown",
      "metadata": {
        "id": "Kt4gLA4f9BOx",
        "colab_type": "text"
      },
      "source": [
        "# KMeans +PCA + scaling\n"
      ]
    },
    {
      "cell_type": "code",
      "metadata": {
        "id": "VFerymPp9C9Q",
        "colab_type": "code",
        "colab": {
          "base_uri": "https://localhost:8080/",
          "height": 33
        },
        "outputId": "f856239f-cccd-4b62-a532-8a298084fffd"
      },
      "source": [
        "pca = PCA(3)\n",
        "X_pca_scaled = pca.fit_transform(X_scaled)\n",
        "\n",
        "km = KMeans(n_clusters=3)\n",
        "km.fit(X_pca_scaled)\n",
        "Y_cluster_kmeans= km.predict(X_pca_scaled)\n",
        "from sklearn import metrics\n",
        "pca_means_scale_score = metrics.silhouette_score(X_pca_scaled, Y_cluster_kmeans)\n",
        "print('PCA+KMEANS+ Scale score is:', pca_means_scale_score)"
      ],
      "execution_count": 94,
      "outputs": [
        {
          "output_type": "stream",
          "text": [
            "PCA+KMEANS+ Scale score is: 0.38062897873357365\n"
          ],
          "name": "stdout"
        }
      ]
    },
    {
      "cell_type": "markdown",
      "metadata": {
        "id": "nFKv3qoF9vFG",
        "colab_type": "text"
      },
      "source": [
        "# Visualising"
      ]
    },
    {
      "cell_type": "code",
      "metadata": {
        "id": "mhk9bui0933w",
        "colab_type": "code",
        "colab": {
          "base_uri": "https://localhost:8080/",
          "height": 265
        },
        "outputId": "be08ceaf-d91e-4123-f364-fd37887dc1b1"
      },
      "source": [
        "\n",
        "plt.scatter(X_pca[:, 0], X_pca[:, 1], c = Y_cluster_kmeans)\n",
        "plt.show()"
      ],
      "execution_count": 99,
      "outputs": [
        {
          "output_type": "display_data",
          "data": {
            "image/png": "[encoded data removed]",
            "text/plain": [
              "<Figure size 432x288 with 1 Axes>"
            ]
          },
          "metadata": {
            "tags": [],
            "needs_background": "light"
          }
        }
      ]
    }
  ]
}