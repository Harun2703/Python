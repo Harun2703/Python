{
  "nbformat": 4,
  "nbformat_minor": 0,
  "metadata": {
    "colab": {
      "name": "DL2.1.ipynb",
      "provenance": [],
      "collapsed_sections": [],
      "authorship_tag": "ABX9TyMNH2Sk+u2toDEcFCdtRokP",
      "include_colab_link": true
    },
    "kernelspec": {
      "name": "python3",
      "display_name": "Python 3"
    }
  },
  "cells": [
    {
      "cell_type": "markdown",
      "metadata": {
        "id": "view-in-github",
        "colab_type": "text"
      },
      "source": [
        "<a href=\"https://colab.research.google.com/github/Harun2703/Python/blob/master/ICP-10/SourceCode/DL2_1.ipynb\" target=\"_parent\"><img src=\"https://colab.research.google.com/assets/colab-badge.svg\" alt=\"Open In Colab\"/></a>"
      ]
    },
    {
      "cell_type": "code",
      "metadata": {
        "id": "ca9VOM7_J3mL",
        "colab_type": "code",
        "colab": {
          "base_uri": "https://localhost:8080/",
          "height": 33
        },
        "outputId": "15fdf372-a287-4d8a-b368-2b4e0d568d05"
      },
      "source": [
        "# Importing the libraries\n",
        "from keras.models import Sequential\n",
        "from keras import layers\n",
        "from keras.preprocessing.text import Tokenizer\n",
        "import pandas as pd\n",
        "import numpy as np\n",
        "from sklearn import preprocessing\n",
        "from sklearn.model_selection import train_test_split"
      ],
      "execution_count": 1,
      "outputs": [
        {
          "output_type": "stream",
          "text": [
            "Using TensorFlow backend.\n"
          ],
          "name": "stderr"
        }
      ]
    },
    {
      "cell_type": "code",
      "metadata": {
        "id": "4DC5np9_KJnp",
        "colab_type": "code",
        "colab": {
          "base_uri": "https://localhost:8080/",
          "height": 147
        },
        "outputId": "7c9b6fa2-753b-4f86-c192-2dee3e5befab"
      },
      "source": [
        "# Reading the Data file\n",
        "df = pd.read_csv('imdb_master.csv',encoding='latin-1')\n",
        "print(df.head())"
      ],
      "execution_count": 2,
      "outputs": [
        {
          "output_type": "stream",
          "text": [
            "   Unnamed: 0  type  ... label         file\n",
            "0           0  test  ...   neg      0_2.txt\n",
            "1           1  test  ...   neg  10000_4.txt\n",
            "2           2  test  ...   neg  10001_1.txt\n",
            "3           3  test  ...   neg  10002_3.txt\n",
            "4           4  test  ...   neg  10003_3.txt\n",
            "\n",
            "[5 rows x 5 columns]\n"
          ],
          "name": "stdout"
        }
      ]
    },
    {
      "cell_type": "code",
      "metadata": {
        "id": "W90GfrJBLVjr",
        "colab_type": "code",
        "colab": {}
      },
      "source": [
        "# Features and Target Extraction\n",
        "reviews = df['review'].values\n",
        "y = df['label'].values"
      ],
      "execution_count": 6,
      "outputs": []
    },
    {
      "cell_type": "code",
      "metadata": {
        "id": "-YBri_UrLM46",
        "colab_type": "code",
        "colab": {}
      },
      "source": [
        "# Tokenizing data\n",
        "tokenizer = Tokenizer(num_words=2000)\n",
        "tokenizer.fit_on_texts(reviews)"
      ],
      "execution_count": 7,
      "outputs": []
    },
    {
      "cell_type": "code",
      "metadata": {
        "id": "oWnzk_iMLQdk",
        "colab_type": "code",
        "colab": {}
      },
      "source": [
        "# getting the vocabulary of data\n",
        "reviews_mat = tokenizer.texts_to_matrix(reviews)"
      ],
      "execution_count": 8,
      "outputs": []
    },
    {
      "cell_type": "code",
      "metadata": {
        "id": "b-u8DMbCLkNh",
        "colab_type": "code",
        "colab": {}
      },
      "source": [
        "# Label Encoding the Target ,Splitting the data\n",
        "le = preprocessing.LabelEncoder()\n",
        "y = le.fit_transform(y)\n",
        "X_train, X_test, y_train, y_test = train_test_split(reviews_mat, y, test_size=0.25, random_state=1000)"
      ],
      "execution_count": 9,
      "outputs": []
    },
    {
      "cell_type": "code",
      "metadata": {
        "id": "jjP3Xf7TLskV",
        "colab_type": "code",
        "colab": {
          "base_uri": "https://localhost:8080/",
          "height": 33
        },
        "outputId": "aaad0814-ebb0-4327-9eec-eddc32656b84"
      },
      "source": [
        "# Assigning Input Dimension value\n",
        "input_dim=np.prod(X_train.shape[1:])\n",
        "print(input_dim)"
      ],
      "execution_count": 10,
      "outputs": [
        {
          "output_type": "stream",
          "text": [
            "2000\n"
          ],
          "name": "stdout"
        }
      ]
    },
    {
      "cell_type": "code",
      "metadata": {
        "id": "sDVseprtLxQS",
        "colab_type": "code",
        "colab": {
          "base_uri": "https://localhost:8080/",
          "height": 196
        },
        "outputId": "d20f2c41-e400-45ff-ba2b-e3519c7bf382"
      },
      "source": [
        "#  Model Implementation\n",
        "model = Sequential()\n",
        "model.add(layers.Dense(300,input_dim=input_dim, activation='relu'))\n",
        "model.add(layers.Dense(3, activation='softmax'))\n",
        "model.compile(loss='sparse_categorical_crossentropy',optimizer='adam',metrics=['acc'])\n",
        "history=model.fit(X_train,y_train, epochs=5, verbose=True, validation_data=(X_test,y_test), batch_size=256)"
      ],
      "execution_count": 11,
      "outputs": [
        {
          "output_type": "stream",
          "text": [
            "Train on 75000 samples, validate on 25000 samples\n",
            "Epoch 1/5\n",
            "75000/75000 [==============================] - 7s 96us/step - loss: 0.8814 - acc: 0.5026 - val_loss: 0.8401 - val_acc: 0.5140\n",
            "Epoch 2/5\n",
            "75000/75000 [==============================] - 7s 94us/step - loss: 0.7913 - acc: 0.5770 - val_loss: 0.8419 - val_acc: 0.5179\n",
            "Epoch 3/5\n",
            "75000/75000 [==============================] - 7s 94us/step - loss: 0.6967 - acc: 0.6687 - val_loss: 0.8630 - val_acc: 0.5124\n",
            "Epoch 4/5\n",
            "75000/75000 [==============================] - 7s 93us/step - loss: 0.5166 - acc: 0.8013 - val_loss: 0.9401 - val_acc: 0.5129\n",
            "Epoch 5/5\n",
            "75000/75000 [==============================] - 7s 92us/step - loss: 0.3070 - acc: 0.9156 - val_loss: 1.0689 - val_acc: 0.5115\n"
          ],
          "name": "stdout"
        }
      ]
    },
    {
      "cell_type": "code",
      "metadata": {
        "id": "iZwG5DY6L1Dd",
        "colab_type": "code",
        "colab": {
          "base_uri": "https://localhost:8080/",
          "height": 295
        },
        "outputId": "b8841c3a-9e19-485e-af9f-c402240e4ee6"
      },
      "source": [
        "import matplotlib.pyplot as plt\n",
        "plt.plot(history.history['acc'])\n",
        "plt.plot(history.history['val_acc'])\n",
        "plt.plot(history.history['loss'])\n",
        "plt.plot(history.history['val_loss'])\n",
        "plt.title('model accuracy')\n",
        "plt.ylabel('accuracy')\n",
        "plt.xlabel('epoch')\n",
        "plt.legend(['accuray', 'val_accuracy','loss','val_loss'], loc='upper left')\n",
        "plt.show()"
      ],
      "execution_count": 12,
      "outputs": [
        {
          "output_type": "display_data",
          "data": {
            "image/png": "[encoded data removed]",
            "text/plain": [
              "<Figure size 432x288 with 1 Axes>"
            ]
          },
          "metadata": {
            "tags": [],
            "needs_background": "light"
          }
        }
      ]
    },
    {
      "cell_type": "markdown",
      "metadata": {
        "id": "JzwcDuBxMAdF",
        "colab_type": "text"
      },
      "source": [
        "# Adding Embedding Layer"
      ]
    },
    {
      "cell_type": "code",
      "metadata": {
        "id": "STi8AlxqL-07",
        "colab_type": "code",
        "colab": {
          "base_uri": "https://localhost:8080/",
          "height": 50
        },
        "outputId": "08aeee07-2f62-4f0c-cdc2-8bb08976e155"
      },
      "source": [
        "# Pre processing for Embedding Layer\n",
        "\n",
        "from keras.preprocessing.sequence import pad_sequences\n",
        "pureReviews = df['review'].values\n",
        "max_review_len= max([len(s.split()) for s in pureReviews])\n",
        "vocab_size= len(tokenizer.word_index)+1\n",
        "sentencesPre = tokenizer.texts_to_sequences(pureReviews)\n",
        "padded_docs= pad_sequences(sentencesPre,maxlen=max_review_len)\n",
        "\n",
        "X_train, X_test, y_train, y_test = train_test_split(padded_docs, y, test_size=0.25, random_state=1000)\n",
        "print(vocab_size)\n",
        "print(max_review_len)"
      ],
      "execution_count": 13,
      "outputs": [
        {
          "output_type": "stream",
          "text": [
            "176408\n",
            "2470\n"
          ],
          "name": "stdout"
        }
      ]
    },
    {
      "cell_type": "code",
      "metadata": {
        "id": "lpYWD1bDMM6K",
        "colab_type": "code",
        "colab": {
          "base_uri": "https://localhost:8080/",
          "height": 248
        },
        "outputId": "cf75668f-91ea-4c6f-bcb8-0b92b7a6617e"
      },
      "source": [
        "# Model implementation with Embedding Layer\n",
        "from keras.layers import Embedding, Flatten\n",
        "model1 = Sequential()\n",
        "model1.add(Embedding(vocab_size, 50, input_length=max_review_len))\n",
        "model1.add(Flatten())\n",
        "model1.add(layers.Dense(300, activation='relu',input_dim=max_review_len))\n",
        "model1.add(layers.Dense(3, activation='softmax'))\n",
        "model1.compile(loss='sparse_categorical_crossentropy',optimizer='adam',metrics=['acc'])\n",
        "history1=model1.fit(X_train,y_train, epochs=5, verbose=True, validation_data=(X_test,y_test), batch_size=256)"
      ],
      "execution_count": 15,
      "outputs": [
        {
          "output_type": "stream",
          "text": [
            "/usr/local/lib/python3.6/dist-packages/tensorflow/python/framework/indexed_slices.py:434: UserWarning: Converting sparse IndexedSlices to a dense Tensor of unknown shape. This may consume a large amount of memory.\n",
            "  \"Converting sparse IndexedSlices to a dense Tensor of unknown shape. \"\n"
          ],
          "name": "stderr"
        },
        {
          "output_type": "stream",
          "text": [
            "Train on 75000 samples, validate on 25000 samples\n",
            "Epoch 1/5\n",
            "75000/75000 [==============================] - 483s 6ms/step - loss: 0.9789 - acc: 0.4917 - val_loss: 0.8765 - val_acc: 0.5000\n",
            "Epoch 2/5\n",
            "75000/75000 [==============================] - 489s 7ms/step - loss: 0.8273 - acc: 0.5304 - val_loss: 0.8403 - val_acc: 0.5052\n",
            "Epoch 3/5\n",
            "75000/75000 [==============================] - 489s 7ms/step - loss: 0.7550 - acc: 0.6047 - val_loss: 0.8610 - val_acc: 0.4932\n",
            "Epoch 4/5\n",
            "75000/75000 [==============================] - 490s 7ms/step - loss: 0.6280 - acc: 0.7015 - val_loss: 0.9664 - val_acc: 0.4928\n",
            "Epoch 5/5\n",
            "75000/75000 [==============================] - 489s 7ms/step - loss: 0.4736 - acc: 0.7967 - val_loss: 1.0986 - val_acc: 0.4786\n"
          ],
          "name": "stdout"
        }
      ]
    },
    {
      "cell_type": "code",
      "metadata": {
        "id": "Po8B2W1dMeZu",
        "colab_type": "code",
        "colab": {
          "base_uri": "https://localhost:8080/",
          "height": 295
        },
        "outputId": "2cb7ce1c-7db0-4b38-8885-c524ea82670f"
      },
      "source": [
        "# Loss and Accuracy Curve after adding Embedding Layer\n",
        "import matplotlib.pyplot as plt\n",
        "plt.plot(history1.history['acc'])\n",
        "plt.plot(history1.history['val_acc'])\n",
        "plt.plot(history1.history['loss'])\n",
        "plt.plot(history1.history['val_loss'])\n",
        "plt.title('model accuracy')\n",
        "plt.ylabel('accuracy')\n",
        "plt.xlabel('epoch')\n",
        "plt.legend(['accuray', 'val_accuracy','loss','val_loss'], loc='upper left')\n",
        "plt.show()"
      ],
      "execution_count": 17,
      "outputs": [
        {
          "output_type": "display_data",
          "data": {
            "image/png": "[encoded data removed]",
            "text/plain": [
              "<Figure size 432x288 with 1 Axes>"
            ]
          },
          "metadata": {
            "tags": [],
            "needs_background": "light"
          }
        }
      ]
    },
    {
      "cell_type": "code",
      "metadata": {
        "id": "QueMnP3_Mq1F",
        "colab_type": "code",
        "colab": {
          "base_uri": "https://localhost:8080/",
          "height": 33
        },
        "outputId": "f8ebeee6-24d2-4389-c825-b7dbc5829cf9"
      },
      "source": [
        "# Predicting the value\n",
        "pred = model1.predict_classes(X_test[[2],:])\n",
        "print(\"Actual test value \",y_test[1],\"Predicted value\", pred)"
      ],
      "execution_count": 21,
      "outputs": [
        {
          "output_type": "stream",
          "text": [
            "Actual test value  2 Predicted value [2]\n"
          ],
          "name": "stdout"
        }
      ]
    },
    {
      "cell_type": "markdown",
      "metadata": {
        "id": "l86pk8eKM5hw",
        "colab_type": "text"
      },
      "source": [
        "# News Group Data Analysis"
      ]
    },
    {
      "cell_type": "code",
      "metadata": {
        "id": "vQGRwAmIM7xV",
        "colab_type": "code",
        "colab": {}
      },
      "source": [
        "# Importing News Datasets\n",
        "from sklearn.datasets import fetch_20newsgroups\n",
        "twenty_train = fetch_20newsgroups(subset='train', shuffle=True)"
      ],
      "execution_count": 22,
      "outputs": []
    },
    {
      "cell_type": "code",
      "metadata": {
        "id": "eYErLZdMNHzO",
        "colab_type": "code",
        "colab": {}
      },
      "source": [
        "# Features and Target Extraction\n",
        "news = twenty_train.data\n",
        "y=twenty_train.target"
      ],
      "execution_count": 23,
      "outputs": []
    },
    {
      "cell_type": "code",
      "metadata": {
        "id": "Vq4k744SNHTt",
        "colab_type": "code",
        "colab": {}
      },
      "source": [
        "# Preprocessing the data\n",
        "from keras.preprocessing.sequence import pad_sequences\n",
        "max_news_len= max([len(s.split()) for s in news])\n",
        "vocab_size1= len(tokenizer.word_index)+1\n",
        "sentencesPre = tokenizer.texts_to_sequences(news)\n",
        "padded_docs= pad_sequences(sentencesPre,maxlen=max_news_len)\n",
        "X_train, X_test, y_train, y_test = train_test_split(padded_docs, y, test_size=0.25, random_state=1000)"
      ],
      "execution_count": 24,
      "outputs": []
    },
    {
      "cell_type": "code",
      "metadata": {
        "id": "6Nd5v3SnNAmU",
        "colab_type": "code",
        "colab": {}
      },
      "source": [
        "# Model Implementation\n",
        "from keras.layers import Embedding, Flatten\n",
        "model2 = Sequential()\n",
        "model2.add(Embedding(vocab_size, 50, input_length=max_review_len))\n",
        "model2.add(Flatten())\n",
        "model2.add(layers.Dense(300, activation='relu',input_dim=max_review_len))\n",
        "model2.add(layers.Dense(20, activation='softmax'))\n",
        "model2.compile(loss='sparse_categorical_crossentropy',optimizer='adam',metrics=['acc'])\n",
        "\n",
        "history2 = model2.fit(X_train,y_train, epochs=5, verbose=True, validation_data=(X_test,y_test), batch_size=256)"
      ],
      "execution_count": null,
      "outputs": []
    },
    {
      "cell_type": "code",
      "metadata": {
        "id": "HPitUkyMTsRv",
        "colab_type": "code",
        "colab": {}
      },
      "source": [
        "# Loss and Accuracy Curve\n",
        "plt.plot(history2.history['acc'])\n",
        "plt.plot(history2.history['val_acc'])\n",
        "plt.plot(history2.history['loss'])\n",
        "plt.plot(history2.history['val_loss'])\n",
        "plt.title('model accuracy')\n",
        "plt.ylabel('accuracy')\n",
        "plt.xlabel('epoch')\n",
        "plt.legend(['accuray', 'val_accuracy','loss','val_loss'], loc='upper left')\n",
        "plt.show()"
      ],
      "execution_count": null,
      "outputs": []
    },
    {
      "cell_type": "code",
      "metadata": {
        "id": "Py6PeBC7T9HG",
        "colab_type": "code",
        "colab": {}
      },
      "source": [
        "# Predicting the Value for test sample\n",
        "pred = model.predict_classes(X_test[[2],:])\n",
        "print(\"Actual Prediction\",y_test[1],\"Predicted Prediction\", pred)"
      ],
      "execution_count": null,
      "outputs": []
    }
  ]
}