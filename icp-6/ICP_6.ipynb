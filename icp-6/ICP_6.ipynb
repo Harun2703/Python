{
  "nbformat": 4,
  "nbformat_minor": 0,
  "metadata": {
    "kernelspec": {
      "display_name": "Python 3",
      "language": "python",
      "name": "python3"
    },
    "language_info": {
      "codemirror_mode": {
        "name": "ipython",
        "version": 3
      },
      "file_extension": ".py",
      "mimetype": "text/x-python",
      "name": "python",
      "nbconvert_exporter": "python",
      "pygments_lexer": "ipython3",
      "version": "3.7.6"
    },
    "colab": {
      "name": "ICP-6.ipynb",
      "provenance": [],
      "include_colab_link": true
    }
  },
  "cells": [
    {
      "cell_type": "markdown",
      "metadata": {
        "id": "view-in-github",
        "colab_type": "text"
      },
      "source": [
        "<a href=\"https://colab.research.google.com/github/Harun2703/Python/blob/master/icp-6/ICP_6.ipynb\" target=\"_parent\"><img src=\"https://colab.research.google.com/assets/colab-badge.svg\" alt=\"Open In Colab\"/></a>"
      ]
    },
    {
      "cell_type": "markdown",
      "metadata": {
        "id": "tiOV0Jlkm4XI",
        "colab_type": "text"
      },
      "source": [
        "# Importing required Libraries"
      ]
    },
    {
      "cell_type": "code",
      "metadata": {
        "id": "KpLYI0ftm4XK",
        "colab_type": "code",
        "colab": {}
      },
      "source": [
        "import matplotlib.pyplot as plt\n",
        "%matplotlib inline\n",
        "import numpy as np\n",
        "import pandas as pd\n",
        "from sklearn.cluster import KMeans"
      ],
      "execution_count": 4,
      "outputs": []
    },
    {
      "cell_type": "code",
      "metadata": {
        "id": "X2PlsVggm854",
        "colab_type": "code",
        "colab": {
          "base_uri": "https://localhost:8080/",
          "height": 122
        },
        "outputId": "3097ebb4-374f-47b3-b062-4d5fb34632d0"
      },
      "source": [
        "from google.colab import drive\n",
        "drive.mount('/content/drive')"
      ],
      "execution_count": 5,
      "outputs": [
        {
          "output_type": "stream",
          "text": [
            "Go to this URL in a browser: https://accounts.google.com/o/oauth2/auth?client_id=947318989803-6bn6qk8qdgf4n4g3pfee6491hc0brc4i.apps.googleusercontent.com&redirect_uri=urn%3aietf%3awg%3aoauth%3a2.0%3aoob&response_type=code&scope=email%20https%3a%2f%2fwww.googleapis.com%2fauth%2fdocs.test%20https%3a%2f%2fwww.googleapis.com%2fauth%2fdrive%20https%3a%2f%2fwww.googleapis.com%2fauth%2fdrive.photos.readonly%20https%3a%2f%2fwww.googleapis.com%2fauth%2fpeopleapi.readonly\n",
            "\n",
            "Enter your authorization code:\n",
            "··········\n",
            "Mounted at /content/drive\n"
          ],
          "name": "stdout"
        }
      ]
    },
    {
      "cell_type": "markdown",
      "metadata": {
        "id": "S9JmU9o3m4XU",
        "colab_type": "text"
      },
      "source": [
        "# Remove any null values by the mean.\n"
      ]
    },
    {
      "cell_type": "code",
      "metadata": {
        "id": "5eOhZxl7m4XW",
        "colab_type": "code",
        "colab": {}
      },
      "source": [
        "dataset = pd.read_csv(\"/content/drive/My Drive/Python Deep learning/ICP-6/CC.csv\")"
      ],
      "execution_count": 6,
      "outputs": []
    },
    {
      "cell_type": "code",
      "metadata": {
        "id": "dqaRdXiXm4Xc",
        "colab_type": "code",
        "colab": {}
      },
      "source": [
        "X = dataset.iloc[:, 1:]"
      ],
      "execution_count": 7,
      "outputs": []
    },
    {
      "cell_type": "code",
      "metadata": {
        "id": "jYR6HQZ7m4Xj",
        "colab_type": "code",
        "colab": {}
      },
      "source": [
        "X = X.select_dtypes(include=[np.number]).interpolate().fillna(X.select_dtypes(include=[np.number]).interpolate().mean(axis=0))"
      ],
      "execution_count": 8,
      "outputs": []
    },
    {
      "cell_type": "markdown",
      "metadata": {
        "id": "eu3wC-YNm4Xp",
        "colab_type": "text"
      },
      "source": [
        "# Elbow Method"
      ]
    },
    {
      "cell_type": "code",
      "metadata": {
        "id": "O77CZeSTm4Xq",
        "colab_type": "code",
        "colab": {
          "base_uri": "https://localhost:8080/",
          "height": 295
        },
        "outputId": "07f37981-0612-4cdb-ed70-29215cea5302"
      },
      "source": [
        "from sklearn.cluster import KMeans\n",
        "wcss = []\n",
        "for i in range(1,10):\n",
        "  kmeans = KMeans(n_clusters=i, random_state=42)\n",
        "  kmeans.fit(X)\n",
        "  wcss.append(kmeans.inertia_)\n",
        "plt.plot(range(1,10),wcss)\n",
        "plt.title(\"The Elbow Method\")\n",
        "plt.xlabel(\"Number of clusters\")\n",
        "plt.ylabel(\"K means score\")\n",
        "plt.show()"
      ],
      "execution_count": 12,
      "outputs": [
        {
          "output_type": "display_data",
          "data": {
            "image/png": "[encoded data removed]",
            "text/plain": [
              "<Figure size 432x288 with 1 Axes>"
            ]
          },
          "metadata": {
            "tags": [],
            "needs_background": "light"
          }
        }
      ]
    },
    {
      "cell_type": "markdown",
      "metadata": {
        "id": "f424bg3nm4Xw",
        "colab_type": "text"
      },
      "source": [
        "# KMeans Model without scaling"
      ]
    },
    {
      "cell_type": "code",
      "metadata": {
        "id": "L1vQxZSQm4Xy",
        "colab_type": "code",
        "colab": {
          "base_uri": "https://localhost:8080/",
          "height": 68
        },
        "outputId": "97370964-d526-4498-8cd5-00e4e98926bd"
      },
      "source": [
        "# k=3\n",
        "kmeans = KMeans(n_clusters=4, random_state=40)\n",
        "kmeans.fit(X)"
      ],
      "execution_count": 28,
      "outputs": [
        {
          "output_type": "execute_result",
          "data": {
            "text/plain": [
              "KMeans(algorithm='auto', copy_x=True, init='k-means++', max_iter=300,\n",
              "       n_clusters=4, n_init=10, n_jobs=None, precompute_distances='auto',\n",
              "       random_state=40, tol=0.0001, verbose=0)"
            ]
          },
          "metadata": {
            "tags": []
          },
          "execution_count": 28
        }
      ]
    },
    {
      "cell_type": "code",
      "metadata": {
        "id": "DXmydt5Fm4X4",
        "colab_type": "code",
        "colab": {}
      },
      "source": [
        "y_cluster_kmeans = kmeans.predict(X)"
      ],
      "execution_count": 29,
      "outputs": []
    },
    {
      "cell_type": "markdown",
      "metadata": {
        "id": "i5K2vHYqm4X-",
        "colab_type": "text"
      },
      "source": [
        "# Calculating score"
      ]
    },
    {
      "cell_type": "code",
      "metadata": {
        "id": "hgzERXzAm4X_",
        "colab_type": "code",
        "colab": {}
      },
      "source": [
        "from sklearn import metrics\n",
        "score = metrics.silhouette_score(X, y_cluster_kmeans)"
      ],
      "execution_count": 30,
      "outputs": []
    },
    {
      "cell_type": "markdown",
      "metadata": {
        "id": "6rMkeIglm4YI",
        "colab_type": "text"
      },
      "source": [
        "# Data Scaling"
      ]
    },
    {
      "cell_type": "code",
      "metadata": {
        "id": "Bo5vOjZAm4YJ",
        "colab_type": "code",
        "colab": {}
      },
      "source": [
        "from sklearn.preprocessing import StandardScaler\n",
        "sc = StandardScaler()\n",
        "sc.fit(X)\n",
        "X_scaled = sc.transform(X)"
      ],
      "execution_count": 31,
      "outputs": []
    },
    {
      "cell_type": "markdown",
      "metadata": {
        "id": "IKoBwoXGm4YO",
        "colab_type": "text"
      },
      "source": [
        "# KMeans Model after Scaling"
      ]
    },
    {
      "cell_type": "code",
      "metadata": {
        "id": "kC6MjJt-m4YO",
        "colab_type": "code",
        "colab": {
          "base_uri": "https://localhost:8080/",
          "height": 68
        },
        "outputId": "eac7f3e0-5248-4ff4-f852-9b94367bbb16"
      },
      "source": [
        "scaled_kmeans = KMeans(n_clusters=4, random_state=42)\n",
        "scaled_kmeans.fit(X_scaled)"
      ],
      "execution_count": 32,
      "outputs": [
        {
          "output_type": "execute_result",
          "data": {
            "text/plain": [
              "KMeans(algorithm='auto', copy_x=True, init='k-means++', max_iter=300,\n",
              "       n_clusters=4, n_init=10, n_jobs=None, precompute_distances='auto',\n",
              "       random_state=42, tol=0.0001, verbose=0)"
            ]
          },
          "metadata": {
            "tags": []
          },
          "execution_count": 32
        }
      ]
    },
    {
      "cell_type": "code",
      "metadata": {
        "id": "_39kpt97m4YV",
        "colab_type": "code",
        "colab": {}
      },
      "source": [
        "y_scaled_kmeans = scaled_kmeans.predict(X_scaled)"
      ],
      "execution_count": 33,
      "outputs": []
    },
    {
      "cell_type": "code",
      "metadata": {
        "id": "PM2trBfrm4YZ",
        "colab_type": "code",
        "colab": {}
      },
      "source": [
        "scaled_score = metrics.silhouette_score(X, y_scaled_kmeans)"
      ],
      "execution_count": 34,
      "outputs": []
    },
    {
      "cell_type": "markdown",
      "metadata": {
        "id": "cnn0sRh1m4Yd",
        "colab_type": "text"
      },
      "source": [
        "# Applying PCA on data"
      ]
    },
    {
      "cell_type": "code",
      "metadata": {
        "id": "PO1638WZm4Ye",
        "colab_type": "code",
        "colab": {}
      },
      "source": [
        "from sklearn.decomposition import PCA\n",
        "pca = PCA(3)\n",
        "X_pca = pca.fit_transform(X)"
      ],
      "execution_count": 35,
      "outputs": []
    },
    {
      "cell_type": "markdown",
      "metadata": {
        "id": "2FzVjc1am4Yi",
        "colab_type": "text"
      },
      "source": [
        "# KMeans model after applying PCA"
      ]
    },
    {
      "cell_type": "code",
      "metadata": {
        "id": "hoRQnQmSm4Yi",
        "colab_type": "code",
        "colab": {}
      },
      "source": [
        "kmeans_pca = KMeans(n_clusters=3)\n",
        "kmeans_pca.fit(X_pca)\n",
        "y_pca_kmeans= kmeans_pca.predict(X_pca)\n",
        "pca_score = metrics.silhouette_score(X_pca, y_pca_kmeans)"
      ],
      "execution_count": 36,
      "outputs": []
    },
    {
      "cell_type": "markdown",
      "metadata": {
        "id": "GagqoXuDm4Ym",
        "colab_type": "text"
      },
      "source": [
        "# KMeans Model after applying PCA on scaled Data"
      ]
    },
    {
      "cell_type": "code",
      "metadata": {
        "id": "0gW29uCsm4Ym",
        "colab_type": "code",
        "colab": {}
      },
      "source": [
        "pca_scaled = PCA(2)\n",
        "X_pca_scaled= pca_scaled.fit_transform(X_scaled)"
      ],
      "execution_count": 37,
      "outputs": []
    },
    {
      "cell_type": "code",
      "metadata": {
        "id": "XvncLXrkm4Yp",
        "colab_type": "code",
        "colab": {
          "base_uri": "https://localhost:8080/",
          "height": 34
        },
        "outputId": "10e88af9-9c30-40eb-87f5-69200de28f2e"
      },
      "source": [
        "kmeans_pca_scaled = KMeans(n_clusters=3)\n",
        "kmeans_pca_scaled.fit(X_pca_scaled)\n",
        "y_pca_kmeans_scaled = kmeans_pca_scaled.predict(X_pca_scaled)\n",
        "pca_scaled_score = metrics.silhouette_score(X_pca_scaled, y_pca_kmeans_scaled)\n",
        "y_pca_kmeans_scaled"
      ],
      "execution_count": 38,
      "outputs": [
        {
          "output_type": "execute_result",
          "data": {
            "text/plain": [
              "array([0, 2, 0, ..., 0, 0, 0], dtype=int32)"
            ]
          },
          "metadata": {
            "tags": []
          },
          "execution_count": 38
        }
      ]
    },
    {
      "cell_type": "markdown",
      "metadata": {
        "id": "iv4B2Fp4m4Ys",
        "colab_type": "text"
      },
      "source": [
        "# Score comparisons"
      ]
    },
    {
      "cell_type": "code",
      "metadata": {
        "id": "Gm1o8tEjm4Yt",
        "colab_type": "code",
        "colab": {
          "base_uri": "https://localhost:8080/",
          "height": 85
        },
        "outputId": "09a7bfa9-5b28-4eea-e08c-8d61386e9de8"
      },
      "source": [
        "print(\"Score before Scaling :\", score)\n",
        "print(\"Score after Scaling :\", scaled_score)\n",
        "print(\"Score after applying PCA:\",pca_score)\n",
        "print(\"Score after applying PCA on scaled data:\",pca_scaled_score)"
      ],
      "execution_count": 39,
      "outputs": [
        {
          "output_type": "stream",
          "text": [
            "Score before Scaling : 0.46489826886310515\n",
            "Score after Scaling : 0.04301267474277744\n",
            "Score after applying PCA: 0.511227493848796\n",
            "Score after applying PCA on scaled data: 0.4508217485997737\n"
          ],
          "name": "stdout"
        }
      ]
    },
    {
      "cell_type": "markdown",
      "metadata": {
        "id": "VOcNNMPwm4Yw",
        "colab_type": "text"
      },
      "source": [
        "# Plotting Clusters"
      ]
    },
    {
      "cell_type": "code",
      "metadata": {
        "id": "HvQaXMXqm4Yw",
        "colab_type": "code",
        "colab": {
          "base_uri": "https://localhost:8080/",
          "height": 265
        },
        "outputId": "e77bc1d3-e9d2-4e99-9738-9c8fa2cad682"
      },
      "source": [
        "colors = [\"yellow\", \"green\", \"blue\"]\n",
        "for i in range(3):\n",
        "    x_axis = X_pca_scaled[y_pca_kmeans_scaled == i][:,0]\n",
        "    y_axis = X_pca_scaled[y_pca_kmeans_scaled == i][:,1]\n",
        "    plt.scatter(x_axis,y_axis,color=colors[i]) "
      ],
      "execution_count": 41,
      "outputs": [
        {
          "output_type": "display_data",
          "data": {
            "image/png": "[encoded data removed]",
            "text/plain": [
              "<Figure size 432x288 with 1 Axes>"
            ]
          },
          "metadata": {
            "tags": [],
            "needs_background": "light"
          }
        }
      ]
    },
    {
      "cell_type": "code",
      "metadata": {
        "id": "iXwDSZ5zm4Y0",
        "colab_type": "code",
        "colab": {}
      },
      "source": [
        ""
      ],
      "execution_count": 27,
      "outputs": []
    }
  ]
}